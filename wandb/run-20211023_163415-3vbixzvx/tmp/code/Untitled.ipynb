{
 "cells": [
  {
   "cell_type": "code",
   "execution_count": 1,
   "id": "05b59dc3-5444-40f2-b7b7-2a7844acd87f",
   "metadata": {},
   "outputs": [],
   "source": [
    "from torchvision.models import *\n",
    "import wandb\n",
    "from sklearn.model_selection import train_test_split\n",
    "import os,cv2\n",
    "import numpy as np\n",
    "import matplotlib.pyplot as plt\n",
    "from torch.nn import *\n",
    "import torch,torchvision\n",
    "from tqdm import tqdm\n",
    "device = 'cuda'\n",
    "PROJECT_NAME = 'Intel-Image-Classification-V3-TL'"
   ]
  },
  {
   "cell_type": "code",
   "execution_count": 3,
   "id": "17625843-88ee-4a42-ab58-81ea055361bd",
   "metadata": {},
   "outputs": [],
   "source": [
    "def load_data():\n",
    "    data = []\n",
    "    labels = {}\n",
    "    labels_r = {}\n",
    "    idx = 0\n",
    "    for label in os.listdir('./data/'):\n",
    "        idx += 1\n",
    "        labels[label] = idx\n",
    "        labels_r[idx] = label\n",
    "    for folder in os.listdir('./data/'):\n",
    "        for file in os.listdir(f'./data/{folder}/'):\n",
    "            img = cv2.imread(f'./data/{folder}/{file}')\n",
    "            img = cv2.resize(img,(56,56))\n",
    "            img = img / 255.0\n",
    "            data.append([\n",
    "                img,\n",
    "                np.eye(labels[folder],len(labels))[labels[folder]-1]\n",
    "            ])\n",
    "    X = []\n",
    "    y = []\n",
    "    for d in data:\n",
    "        X.append(d[0])\n",
    "        y.append(d[1])\n",
    "    X_train,X_test,y_train,y_test = train_test_split(X,y,test_size=0.25,shuffle=False)\n",
    "    X_train = torch.from_numpy(np.array(X_train)).to(device).view(-1,3,56,56).float()\n",
    "    y_train = torch.from_numpy(np.array(y_train)).to(device).float()\n",
    "    X_test = torch.from_numpy(np.array(X_test)).to(device).view(-1,3,56,56).float()\n",
    "    y_test = torch.from_numpy(np.array(y_test)).to(device).float()\n",
    "    return X,y,X_train,X_test,y_train,y_test,labels,labels_r,idx,data"
   ]
  },
  {
   "cell_type": "code",
   "execution_count": 4,
   "id": "c3188b57-d04c-4bd3-b261-ee0d51af8520",
   "metadata": {},
   "outputs": [],
   "source": [
    "X,y,X_train,X_test,y_train,y_test,labels,labels_r,idx,data = load_data()"
   ]
  },
  {
   "cell_type": "code",
   "execution_count": 5,
   "id": "c260b61d-97c2-4ea7-9f58-fd177310fb2c",
   "metadata": {},
   "outputs": [],
   "source": [
    "torch.save(X_train,'X_train.pt')\n",
    "torch.save(y_train,'y_train.pt')\n",
    "torch.save(X_test,'X_test.pt')\n",
    "torch.save(y_test,'y_test.pt')\n",
    "torch.save(labels_r,'labels_r.pt')\n",
    "torch.save(labels,'labels.pt')\n",
    "torch.save(X_train,'X_train.pth')\n",
    "torch.save(y_train,'y_train.pth')\n",
    "torch.save(X_test,'X_test.pth')\n",
    "torch.save(y_test,'y_test.pth')\n",
    "torch.save(labels_r,'labels_r.pth')\n",
    "torch.save(labels,'labels.pth')"
   ]
  },
  {
   "cell_type": "code",
   "execution_count": 6,
   "id": "4748b67d-c403-4e04-b5d3-8b22e9d9291c",
   "metadata": {},
   "outputs": [],
   "source": [
    "def pred(model):\n",
    "    imgs = []\n",
    "    for img in os.listdir('./test/'):\n",
    "        imgs.append(cv2.resize(cv2.imread(f'./test/{img}'),(56,56))/255.0)\n",
    "    preds = torch.squeeze(model(imgs))\n",
    "    print(preds)\n",
    "    for i in tqdm(range(len(imgs))):\n",
    "        img = imgs[i]\n",
    "        plt.figure(figsize=(12,6))\n",
    "        plt.title(labels_r[torch.argmax(preds[i])])\n",
    "        plt.imshow(img)\n",
    "        plt.title(labels_r[torch.argmax(preds[i])])\n",
    "        plt.savefig('./img.png')\n",
    "        plt.close()"
   ]
  },
  {
   "cell_type": "code",
   "execution_count": 7,
   "id": "aa55ba69-69f5-414e-a5b1-ab72da997377",
   "metadata": {},
   "outputs": [],
   "source": [
    "def get_loss(model,X,y,criterion):\n",
    "    preds = model(X)\n",
    "    loss = criterion(preds,y)\n",
    "    return loss.item()"
   ]
  },
  {
   "cell_type": "code",
   "execution_count": 8,
   "id": "b2e56fee-e009-46fd-9732-85c5653b5bf0",
   "metadata": {},
   "outputs": [],
   "source": [
    "def get_accuracy(model,X,y):\n",
    "    preds = model(X)\n",
    "    correct = 0\n",
    "    total = 0\n",
    "    for pred,yb in zip(preds,y):\n",
    "        pred = int(torch.argmax(pred))\n",
    "        yb = int(torch.argmax(yb))\n",
    "        if pred == yb:\n",
    "            correct += 1\n",
    "        total += 1\n",
    "    acc = round(correct/total,3)*100\n",
    "    return acc"
   ]
  },
  {
   "cell_type": "code",
   "execution_count": 36,
   "id": "ab30d6e9-c098-4d6f-9397-c2f43324fb83",
   "metadata": {},
   "outputs": [],
   "source": [
    "model = mobilenet_v2().to(device)"
   ]
  },
  {
   "cell_type": "code",
   "execution_count": 38,
   "id": "cbcc4288-803f-4d9c-9adf-d6a4fbefe97c",
   "metadata": {},
   "outputs": [
    {
     "data": {
      "text/plain": [
       "Sequential(\n",
       "  (0): Dropout(p=0.2, inplace=False)\n",
       "  (1): Linear(in_features=1280, out_features=1000, bias=True)\n",
       ")"
      ]
     },
     "execution_count": 38,
     "metadata": {},
     "output_type": "execute_result"
    }
   ],
   "source": [
    "model.classifier"
   ]
  },
  {
   "cell_type": "code",
   "execution_count": 39,
   "id": "9773cf9c-9bf7-45fb-878a-807014a12018",
   "metadata": {},
   "outputs": [],
   "source": [
    "model.fc = Linear(1280,len(labels))"
   ]
  },
  {
   "cell_type": "code",
   "execution_count": 40,
   "id": "097717f0-9dd0-48f1-9c2a-4f790bb2eb63",
   "metadata": {},
   "outputs": [],
   "source": [
    "criterion = MSELoss()\n",
    "optimizer = torch.optim.Adam(model.parameters(),lr=0.001)"
   ]
  },
  {
   "cell_type": "code",
   "execution_count": 41,
   "id": "43b6ecc0-3b05-4ae3-8602-041baaea9db4",
   "metadata": {},
   "outputs": [],
   "source": [
    "epochs = 100"
   ]
  },
  {
   "cell_type": "code",
   "execution_count": 42,
   "id": "c839d1b8-2e99-431a-9cbb-b003f10c1b1e",
   "metadata": {},
   "outputs": [],
   "source": [
    "batch_size = 32"
   ]
  },
  {
   "cell_type": "code",
   "execution_count": null,
   "id": "23845ae3-e1d9-40d2-a7b3-7957d5528854",
   "metadata": {},
   "outputs": [
    {
     "data": {
      "text/html": [
       "Finishing last run (ID:2ky886d9) before initializing another..."
      ],
      "text/plain": [
       "<IPython.core.display.HTML object>"
      ]
     },
     "metadata": {},
     "output_type": "display_data"
    },
    {
     "data": {
      "text/html": [
       "<br/>Waiting for W&B process to finish, PID 567662... <strong style=\"color:green\">(success).</strong>"
      ],
      "text/plain": [
       "<IPython.core.display.HTML object>"
      ]
     },
     "metadata": {},
     "output_type": "display_data"
    },
    {
     "data": {
      "application/vnd.jupyter.widget-view+json": {
       "model_id": "86d76942e7654f99813de41f62622230",
       "version_major": 2,
       "version_minor": 0
      },
      "text/plain": [
       "VBox(children=(Label(value=' 0.00MB of 0.00MB uploaded (0.00MB deduped)\\r'), FloatProgress(value=1.0, max=1.0)…"
      ]
     },
     "metadata": {},
     "output_type": "display_data"
    }
   ],
   "source": [
    "torch.cuda.empty_cache()\n",
    "wandb.init(project=PROJECT_NAME,name='baseline')\n",
    "for _ in tqdm(range(epochs)):\n",
    "    torch.cuda.empty_cache()\n",
    "    for i in range(0,len(X_train),batch_size):\n",
    "        X_batch = X_train[i:i+batch_size]\n",
    "        y_batch = y_train[i:i+batch_size]\n",
    "        model.to(device)\n",
    "        preds = model(X_batch)\n",
    "        loss = criterion(preds,y_batch)\n",
    "        optimizer.zero_grad()\n",
    "        loss.backward()\n",
    "        optimizer.step()\n",
    "    model.eval()\n",
    "    torch.cuda.empty_cache()\n",
    "    wandb.log({'Loss':(get_loss(model,X_train,y_train,criterion)+get_loss(model,X_batch,y_batch,criterion))/2})\n",
    "    torch.cuda.empty_cache()\n",
    "    wandb.log({'Val Loss':get_loss(model,X_test,y_test,criterion)})\n",
    "    torch.cuda.empty_cache()\n",
    "    wandb.log({'Acc':(get_accuracy(model,X_train,y_train)+get_accuracy(model,X_batch,y_batch))/2})\n",
    "    torch.cuda.empty_cache()\n",
    "    wandb.log({'Val ACC':get_accuracy(model,X_test,y_test)})\n",
    "    torch.cuda.empty_cache()\n",
    "    model.train()\n",
    "wandb.finish()"
   ]
  },
  {
   "cell_type": "code",
   "execution_count": null,
   "id": "1cc1fe8e-093a-4d2c-ad59-a2a85fdd97b9",
   "metadata": {},
   "outputs": [],
   "source": [
    "pred(model)"
   ]
  },
  {
   "cell_type": "code",
   "execution_count": null,
   "id": "a4d07730-7c01-4486-8e0c-5e759481c5ec",
   "metadata": {},
   "outputs": [],
   "source": []
  },
  {
   "cell_type": "code",
   "execution_count": null,
   "id": "0ba8cbe3-6ef9-4fd1-91f3-77ca2f3b5a95",
   "metadata": {},
   "outputs": [],
   "source": []
  }
 ],
 "metadata": {
  "kernelspec": {
   "display_name": "Python 3.8.8 64-bit ('base': conda)",
   "language": "python",
   "name": "python388jvsc74a57bd07338908a6901250255932625ba4b5c32a9d91564d69b39dc5095100e5c96b0b4"
  },
  "language_info": {
   "codemirror_mode": {
    "name": "ipython",
    "version": 3
   },
   "file_extension": ".py",
   "mimetype": "text/x-python",
   "name": "python",
   "nbconvert_exporter": "python",
   "pygments_lexer": "ipython3",
   "version": "3.8.8"
  }
 },
 "nbformat": 4,
 "nbformat_minor": 5
}
